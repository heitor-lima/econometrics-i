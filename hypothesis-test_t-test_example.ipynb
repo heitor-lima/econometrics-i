{
 "cells": [
  {
   "cell_type": "markdown",
   "id": "8036c69a",
   "metadata": {},
   "source": [
    "# Hypothesis Testing - Example\n",
    "\n",
    "This code is one of many examples available here: (https://towardsdatascience.com/hypothesis-testing-with-python-step-by-step-hands-on-tutorial-with-practical-examples-e805975ea96e)."
   ]
  },
  {
   "cell_type": "code",
   "execution_count": 1,
   "id": "52827327",
   "metadata": {},
   "outputs": [],
   "source": [
    "import numpy as np\n",
    "from scipy import stats\n",
    "import pandas as pd"
   ]
  },
  {
   "cell_type": "code",
   "execution_count": 2,
   "id": "cbbd00c2",
   "metadata": {},
   "outputs": [],
   "source": [
    "alpha = 0.05\n",
    "pd.options.display.float_format = '{:,.4f}'.format"
   ]
  },
  {
   "cell_type": "code",
   "execution_count": 3,
   "id": "f1de7794",
   "metadata": {},
   "outputs": [],
   "source": [
    "def check_normality(data):\n",
    "    #perform a Shapiro-Wilk test for normality, under the H_0 that 'data' was drawn from a normal distribution\n",
    "    test_stat_normality, p_value_normality = stats.shapiro(data)\n",
    "    \n",
    "    if p_value_normality < alpha:\n",
    "        print(\"p value: %.4f <\" % p_value_normality, alpha)\n",
    "        print(\"Reject null hypothesis >> Data is not normally distributed.\")\n",
    "    else:\n",
    "        print(\"p value: %.4f >=\" % p_value_normality, alpha)\n",
    "        print(\"Fail to reject null hypothesis >> Data is normally distributed.\")"
   ]
  },
  {
   "cell_type": "code",
   "execution_count": 4,
   "id": "864399ac",
   "metadata": {},
   "outputs": [],
   "source": [
    "def check_variance_homogeneity(group1, group2):\n",
    "    #perform a Levene test for equal variance, under the H_0 that all input samples are from populations with equal variances\n",
    "    test_stat_var, p_value_var = stats.levene(group1,group2)\n",
    "    \n",
    "    if p_value_var < alpha:\n",
    "        print(\"p value: %.4f <\" % p_value_var, alpha)\n",
    "        print(\"Reject null hypothesis >> Sample variances are different.\")\n",
    "    else:\n",
    "        print(\"p value: %.4f >=\" % p_value_var, alpha)\n",
    "        print(\"Fail to reject null hypothesis >> Sample variances are the same.\")"
   ]
  },
  {
   "cell_type": "markdown",
   "id": "a25699a8",
   "metadata": {},
   "source": [
    "A professor believes that students who attend to live (online) classes are more sucessful than those who watch recorded classes later. He recorded the avg grades of the students at the end of the semester."
   ]
  },
  {
   "cell_type": "code",
   "execution_count": 5,
   "id": "52d04bc8",
   "metadata": {},
   "outputs": [],
   "source": [
    "sync = np.array([94. , 84.9, 82.6, 69.5, 80.1, 79.6, 81.4, 77.8, 81.7, 78.8, 73.2,\n",
    "       87.9, 87.9, 93.5, 82.3, 79.3, 78.3, 71.6, 88.6, 74.6, 74.1, 80.6])\n",
    "asyncr = np.array([77.1, 71.7, 91. , 72.2, 74.8, 85.1, 67.6, 69.9, 75.3, 71.7, 65.7, 72.6, 71.5, 78.2])"
   ]
  },
  {
   "cell_type": "markdown",
   "id": "39558a28",
   "metadata": {},
   "source": [
    "Assumptions:\\\n",
    "Observations in each sample are independent and identically distributed (iid);\\\n",
    "Observations in each sample are normally distributed;\\\n",
    "Observations in each sample have the same variance.\\\n",
    "\\\n",
    "$H_{0a}$: data is normally distributed.\\\n",
    "$H_{1a}$: data is not normally distributed."
   ]
  },
  {
   "cell_type": "code",
   "execution_count": 6,
   "id": "c9e39c07",
   "metadata": {},
   "outputs": [
    {
     "name": "stdout",
     "output_type": "stream",
     "text": [
      "p value: 0.6556 >= 0.05\n",
      "Fail to reject null hypothesis >> Data is normally distributed.\n",
      "p value: 0.0803 >= 0.05\n",
      "Fail to reject null hypothesis >> Data is normally distributed.\n"
     ]
    }
   ],
   "source": [
    "check_normality(sync)\n",
    "check_normality(asyncr)"
   ]
  },
  {
   "cell_type": "markdown",
   "id": "faada81c",
   "metadata": {},
   "source": [
    "$H_{0b}$: sample variances are the same.\\\n",
    "$H_{1b}$: sample variances are not the same."
   ]
  },
  {
   "cell_type": "code",
   "execution_count": 7,
   "id": "bd890263",
   "metadata": {},
   "outputs": [
    {
     "name": "stdout",
     "output_type": "stream",
     "text": [
      "p value: 0.8149 >= 0.05\n",
      "Fail to reject null hypothesis >> Sample variances are the same.\n"
     ]
    }
   ],
   "source": [
    "check_variance_homogeneity(sync, asyncr)"
   ]
  },
  {
   "cell_type": "markdown",
   "id": "ac55f632",
   "metadata": {},
   "source": [
    "$H_{0c}$: $\\mu_{sync} \\leq \\mu_{async}$\\\n",
    "$H_{1c}$: $\\mu_{sync} > \\mu_{async}$"
   ]
  },
  {
   "cell_type": "code",
   "execution_count": 8,
   "id": "ca5858cb",
   "metadata": {},
   "outputs": [
    {
     "name": "stdout",
     "output_type": "stream",
     "text": [
      "Since the hypothesis is one sided >> use p_value/2 >> p_value_one_sided: 0.0038\n",
      "\n",
      "p value: 0.0038 < 0.05 >> t-statistic: 2.8415 > 1.645 (tabulated z-score)\n",
      "Reject null hypothesis\n"
     ]
    }
   ],
   "source": [
    "#perform a t-test for the means of two independent samples of scores\n",
    "ttest, p_value = stats.ttest_ind(sync,asyncr)\n",
    "\n",
    "print(\"Since the hypothesis is one sided >> use p_value/2 >> p_value_one_sided: %.4f\" %(p_value/2))\n",
    "\n",
    "if p_value/2 < alpha:\n",
    "    print(\"\\np value: %.4f <\" % (p_value/2), alpha, \">> t-statistic: %.4f > 1.645 (tabulated z-score)\" % ttest)\n",
    "    print(\"Reject null hypothesis\")\n",
    "else:\n",
    "    print(\"p value: %.4f >=\" % (p_value/2), alpha, \">> t-statistic: %.4f <= 1.645 (tabulated z-score)\" % ttest)\n",
    "    print(\"Fail to reject null hypothesis\")"
   ]
  },
  {
   "cell_type": "markdown",
   "id": "ce60668f",
   "metadata": {},
   "source": [
    "**Conclusion**: synchronous students have higher grades than asynchronous ones on avg."
   ]
  }
 ],
 "metadata": {
  "kernelspec": {
   "display_name": "Python 3 (ipykernel)",
   "language": "python",
   "name": "python3"
  },
  "language_info": {
   "codemirror_mode": {
    "name": "ipython",
    "version": 3
   },
   "file_extension": ".py",
   "mimetype": "text/x-python",
   "name": "python",
   "nbconvert_exporter": "python",
   "pygments_lexer": "ipython3",
   "version": "3.9.7"
  }
 },
 "nbformat": 4,
 "nbformat_minor": 5
}
