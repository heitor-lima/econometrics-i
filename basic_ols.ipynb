{
 "cells": [
  {
   "cell_type": "markdown",
   "id": "0dbbcec5",
   "metadata": {},
   "source": [
    "# Basic OLS Concepts"
   ]
  },
  {
   "cell_type": "markdown",
   "id": "5e3e78f8",
   "metadata": {},
   "source": [
    "The following code covers the basic notions on OLS estimators via Python."
   ]
  },
  {
   "cell_type": "code",
   "execution_count": 1,
   "id": "6d9c346b",
   "metadata": {},
   "outputs": [
    {
     "data": {
      "image/png": "[encoded data removed]",
      "text/plain": [
       "<Figure size 720x576 with 1 Axes>"
      ]
     },
     "metadata": {
      "needs_background": "light"
     },
     "output_type": "display_data"
    }
   ],
   "source": [
    "#Generating sample data\n",
    "import numpy as np\n",
    "import pandas as pd\n",
    "import matplotlib.pyplot as plt\n",
    "# Assign any random seed for data generation\n",
    "np.random.seed(234)\n",
    "# Set the (real) coefficients:\n",
    "N = 50\n",
    "beta_0 = 1\n",
    "beta_1 = 0.5\n",
    "# Generate sample data:\n",
    "x = np.arange(start = 0, stop = N + 1, step = 1) #creates a list of 50+1 elements, starting in zero, each of them distanced by 1\n",
    "e = np.random.normal(loc = 0, scale = 1, size = len(x)) #real (and random) error terms, mean zero, std 1\n",
    "y = beta_0 + beta_1 * x + e\n",
    "# Plot the data\n",
    "_ = plt.figure(num = 0, figsize = (10, 8))\n",
    "_ = plt.plot(x, y, linestyle = \"None\", marker = \"o\", markerfacecolor = 'none')\n",
    "plt.show()\n"
   ]
  },
  {
   "cell_type": "markdown",
   "id": "739f37be",
   "metadata": {},
   "source": [
    "Notice that the $\\mathbf{y}$ vector of real observations is a dataset with length 51, generated with the classical simple regression model:\n",
    "\n",
    "$$\n",
    "\\large{\n",
    "    \\mathbf{y = \\beta_{0} + \\beta_{1}x + \\varepsilon}\n",
    "}\n",
    "$$\n",
    "\n",
    "and it has the following values:"
   ]
  },
  {
   "cell_type": "code",
   "execution_count": 5,
   "id": "50cfd423",
   "metadata": {},
   "outputs": [
    {
     "name": "stdout",
     "output_type": "stream",
     "text": [
      "There are 51 observations of y.\n"
     ]
    },
    {
     "data": {
      "text/plain": [
       "array([ 1.81879162,  0.45644936,  2.3509007 ,  3.42157829,  2.91261814,\n",
       "        0.37111536,  3.03026733,  5.43466579,  5.04386634,  6.9252155 ,\n",
       "        5.44293728,  7.42682445,  5.71644626,  8.59625686,  6.06752745,\n",
       "        8.9789592 , 10.34458964,  9.32457934,  9.91729562,  9.61154527,\n",
       "       10.69923351, 12.40837517, 11.35440869, 11.17638637, 14.67798561,\n",
       "       13.79918144, 14.1094715 , 15.54408091, 15.1496757 , 15.24752492,\n",
       "       16.84703683, 17.00577368, 17.39264502, 17.64184493, 16.85678263,\n",
       "       19.13979663, 18.40863856, 19.03584964, 19.20214089, 21.81076281,\n",
       "       22.17479389, 21.44953047, 22.71895176, 21.90363463, 23.25624696,\n",
       "       24.27428894, 23.34143038, 24.92183733, 24.52903097, 27.6580121 ,\n",
       "       25.98836327])"
      ]
     },
     "execution_count": 5,
     "metadata": {},
     "output_type": "execute_result"
    }
   ],
   "source": [
    "print(\"There are\", len(y), \"observations of y.\")\n",
    "y"
   ]
  },
  {
   "cell_type": "markdown",
   "id": "ca819df4",
   "metadata": {},
   "source": [
    "<br>\n",
    "\n",
    "The next cell shows us the estimates of $\\hat{\\beta}_{1}$ and $\\hat{\\beta}_{0}$, following the known formulas (Hayashi 2000, p. 18; Goldberger 1991, p. 188; Wooldridge 2002, p. 53):\n",
    "\n",
    "<br>\n",
    "\n",
    "$$\n",
    "\\Large{\n",
    "\\begin{cases}\n",
    "    \\mathbf{\n",
    "        \\widehat{\\beta}_{1} = \n",
    "        \\frac\n",
    "            {\\sum \\limits _{i=1} ^{N} (X_{i} - \\bar{X})(y_{i} - \\bar{y})}\n",
    "            {\\sum \\limits _{i=1} ^{N} (X_{i} - \\bar{X})^2} = \n",
    "        \\frac\n",
    "            {\\widehat{\\mathbb{C}ov}(X,y)}\n",
    "            {\\widehat{\\mathbb{V}ar}(X)}\\\\\n",
    "    \\widehat{\\beta}_{0} = \\bar{y} - \\hat{\\beta}_{1}\\overline{X}\n",
    "    }\n",
    "\\end{cases}\n",
    "}\n",
    "$$\n",
    "\n",
    "where $\\widehat{\\beta}_{1}$ is the OLS estimator for the parameter $\\beta_{1}$, and $\\widehat{\\beta}_{0}$ is obtained from manipulating the classical linear regression model in terms of mean ($\\mathbf{\\bar{y} = \\widehat{\\beta}_{0} + \\widehat{\\beta}_{1}\\bar{X}}$), i.e., without the error term, which has expectance equal to zero by assumption 2 (strict exogeneity, $\\mathbf{\\mathbb{E}[\\varepsilon | X] = 0}$)."
   ]
  },
  {
   "cell_type": "code",
   "execution_count": 8,
   "id": "2f7d595e",
   "metadata": {},
   "outputs": [
    {
     "name": "stdout",
     "output_type": "stream",
     "text": [
      "Estimated beta_0 = 1.0884980699424691. True beta_0 = 1\n",
      "Estimated beta_1 = 0.4999237210652572. True beta_1 = 0.5\n"
     ]
    }
   ],
   "source": [
    "beta_1_est = np.cov(x, y, bias = True)[0][1] / np.var(x, ddof=1) #bias=True sets normalization by N, which is actually (N-1), since we have 50+1 observations. By default (False) by (N-1) (sample covar, unbiased).\n",
    "beta_0_est = np.mean(y) - beta_1_est * np.mean(x)\n",
    "print(\"Estimated beta_0 = \" + str(beta_0_est) + \". True beta_0 = \" + str(beta_0))\n",
    "print(\"Estimated beta_1 = \" + str(beta_1_est) + \". True beta_1 = \" + str(beta_1))"
   ]
  },
  {
   "cell_type": "markdown",
   "id": "ed899111",
   "metadata": {},
   "source": [
    "By default, np.cov(x,y) returns a matrix of var-cov between the arguments (x,y) like\n",
    "\n",
    "$$\n",
    "\\large{\n",
    "    \\begin{bmatrix}\n",
    "        \\mathbf{\\mathbb{C}ov(x,x)} & \\mathbf{\\mathbb{C}ov(x,y)}\\\\\n",
    "        \\mathbf{\\mathbb{C}ov(y,x)} & \\mathbf{\\mathbb{C}ov(y,y)}\n",
    "    \\end{bmatrix}\n",
    "}\n",
    "$$\n",
    "\n",
    "That's why we're just selecting the element \\[0\\]\\[1\\], (it could also be \\[1\\]\\[0\\]), that gives the covariance between x and y, $\\mathbb{C}ov(x,y)$. (See #https://numpy.org/doc/stable/reference/generated/numpy.cov.html, #https://numpy.org/doc/stable/reference/generated/numpy.var.html.)"
   ]
  },
  {
   "cell_type": "markdown",
   "id": "f1d89e6e",
   "metadata": {},
   "source": [
    "Further, notice that the given formula of $\\hat{\\beta_{1}}$ considers the **sample** covariance and the **sample** variance. It's important to have in mind the lengths of your datasets because of the way np.cov() and np.var() works.<br>\n",
    "By default, np.cov() sets its parameter bias = False. This means that the functions considers N-1, where N is the length of the parameters.<br>\n",
    "On the other hand, np.var() sets its parameter ddof=0 by default. Actually, the function always does the division as (N - ddof), but if nothing is informed, it taks ddof=0."
   ]
  },
  {
   "cell_type": "markdown",
   "id": "dce7d5c0",
   "metadata": {},
   "source": [
    "In our case, with bias = False (default) in np.cov(), and np.var(ddof=0) (default), the estimate of $\\hat{\\beta_{1}}$ is biased in two ways:\n",
    "1. it neither considers the sample convariance, since it is considering the length of the parameters (51 in this case);\n",
    "2. nor considers the sample variance, since it is considering the length of parameter x (51 in this case).\n",
    "\n",
    "This generates a $\\hat{\\beta_{1}}$ of:"
   ]
  },
  {
   "cell_type": "code",
   "execution_count": 14,
   "id": "1df84b83",
   "metadata": {},
   "outputs": [
    {
     "name": "stdout",
     "output_type": "stream",
     "text": [
      "0.5201206393962936\n"
     ]
    }
   ],
   "source": [
    "beta_b_1 = np.cov(x, y)[0][1] / np.var(x) \n",
    "print(str(np.cov(x, y)[0][1] / np.var(x)))"
   ]
  },
  {
   "cell_type": "markdown",
   "id": "7a9f9dc9",
   "metadata": {},
   "source": [
    "With bias = False (default) in np.cov(), and np.var(ddof=1) (unbiased), the estimate of $\\hat{\\beta_{1}}$ is biased only because of covariace. This generates a $\\hat{\\beta_{1}}$ of:"
   ]
  },
  {
   "cell_type": "code",
   "execution_count": 15,
   "id": "3a0dfa0c",
   "metadata": {},
   "outputs": [
    {
     "name": "stdout",
     "output_type": "stream",
     "text": [
      "0.5099221954865624\n"
     ]
    }
   ],
   "source": [
    "beta_b_2 = np.cov(x, y)[0][1] / np.var(x, ddof = 1)\n",
    "print(str(np.cov(x, y)[0][1] / np.var(x, ddof = 1)))"
   ]
  },
  {
   "cell_type": "markdown",
   "id": "fb5afd3d",
   "metadata": {},
   "source": [
    "With bias = True (unbiased) in np.cov(), and np.var(ddof=0) (default), the estimate of $\\hat{\\beta_{1}}$ is biased only because of variance. This generates a $\\hat{\\beta_{1}}$ of:"
   ]
  },
  {
   "cell_type": "code",
   "execution_count": 16,
   "id": "418e7114",
   "metadata": {},
   "outputs": [
    {
     "name": "stdout",
     "output_type": "stream",
     "text": [
      "0.5099221954865624\n"
     ]
    }
   ],
   "source": [
    "beta_b_3 = np.cov(x, y, bias = True)[0][1] / np.var(x) \n",
    "print(str(np.cov(x, y, bias = True)[0][1] / np.var(x)))"
   ]
  },
  {
   "cell_type": "markdown",
   "id": "aa15d94f",
   "metadata": {},
   "source": [
    "Finally, with bias = True (unbiased) in np.cov(), and np.var(ddof=1) (unbiased), the estimate of $\\hat{\\beta_{1}}$ is $\\textbf{unbiased}$:"
   ]
  },
  {
   "cell_type": "code",
   "execution_count": 33,
   "id": "e3515b4e",
   "metadata": {},
   "outputs": [
    {
     "name": "stdout",
     "output_type": "stream",
     "text": [
      "0.4999237210652572\n"
     ]
    }
   ],
   "source": [
    "print(beta_1_est)"
   ]
  },
  {
   "cell_type": "markdown",
   "id": "2f0952b1",
   "metadata": {},
   "source": [
    "And we can check that this is actually the best estimate for the real $\\beta_{1}$:"
   ]
  },
  {
   "cell_type": "code",
   "execution_count": 34,
   "id": "2cc9ad95",
   "metadata": {},
   "outputs": [
    {
     "name": "stdout",
     "output_type": "stream",
     "text": [
      "Diff between first biased estimate and real beta_1: \n",
      "\t0.020120639396293605\n",
      "\n",
      " Diff between second biased estimate and real beta_1: \n",
      "\t0.009922195486562368\n",
      "\n",
      " Diff between third biased estimate and real beta_1: \n",
      "\t0.009922195486562368\n",
      "\n",
      " Diff between unbiased estimate and real beta_1: \n",
      "\t0.00007627893474282388\n"
     ]
    }
   ],
   "source": [
    "print(\"Diff between first biased estimate and real beta_1: \\n\\t\" +\n",
    "         str(abs(beta_1 - beta_b_1)))\n",
    "print(\"\\n Diff between second biased estimate and real beta_1: \\n\\t\" +\n",
    "         str(abs(beta_1 - beta_b_2)))\n",
    "print(\"\\n Diff between third biased estimate and real beta_1: \\n\\t\" +\n",
    "         str(abs(beta_1 - beta_b_3)))\n",
    "print(\"\\n Diff between unbiased estimate and real beta_1: \\n\\t\" +\n",
    "         str('{0:.20f}'.format(abs(beta_1 - beta_1_est))))"
   ]
  },
  {
   "cell_type": "markdown",
   "id": "ed3d13ec",
   "metadata": {},
   "source": [
    "# OLS Matrix Method"
   ]
  },
  {
   "cell_type": "markdown",
   "id": "619c17b3",
   "metadata": {},
   "source": [
    "The OLS estimator for $\\hat{\\beta}$ is the following (Hayashi 2000, p. 18; Goldberger 1991, p. 183; Wooldridge 2002, p. 53):\n",
    "\n",
    "$$\n",
    "\\large{\n",
    "\\mathbf{\\widehat{\\beta} = (X'X)^{-1}X'y}\n",
    "}\n",
    "$$\n",
    "\n",
    "where $\\mathbf{X}$ is the N $\\times$ K data matrix of regressors with $\\textit{i}$-th row $\\mathbf{x_{i}}$, and $\\mathbf{y}$ is the N $\\times$ 1 is the data vector with $\\textit{i}$-th element $\\mathbf{y_{i}}$."
   ]
  },
  {
   "cell_type": "markdown",
   "id": "b7f69db3",
   "metadata": {},
   "source": [
    "For the univariate case, we have that \n",
    "\n",
    "$$\n",
    "\\large{\n",
    "    \\hat{\\beta} = \n",
    "        \\begin{bmatrix}\n",
    "            \\hat{\\beta}_{0}\\\\\n",
    "            \\hat{\\beta}_{1}\n",
    "        \\end{bmatrix} = \n",
    "        \\begin{bmatrix}\n",
    "                \\mathbf{\n",
    "                \\frac\n",
    "                    {\\bar{X}^{2}\\cdot\\overline{y} - \\overline{X} \\cdot \\overline{Xy}}\n",
    "                    {\\widehat{Var}(X)}\\\\\n",
    "                \\phantom{|.}\n",
    "                \\frac\n",
    "                    {\\widehat{Cov}(X,y)}\n",
    "                    {\\widehat{Var}(X)}\n",
    "                }\n",
    "        \\end{bmatrix}\n",
    "}\n",
    "$$"
   ]
  },
  {
   "cell_type": "code",
   "execution_count": 15,
   "id": "12d12093",
   "metadata": {},
   "outputs": [
    {
     "name": "stdout",
     "output_type": "stream",
     "text": [
      "[0.83853621 0.5099222 ]\n"
     ]
    }
   ],
   "source": [
    "#this first line sets a matrix (N+1) x 2, where the first column is composed by (N+1) numbers 1, and the second has all values in vector x\n",
    "x_mat = np.column_stack((np.ones(len(x)), x))\n",
    "\n",
    "#this line calculates beta using the formula (X'X)^-1 * X'y. The np.dot() function is the vectorial product function\n",
    "beta_mat = np.dot(np.linalg.inv(np.dot(np.transpose(x_mat), x_mat)), #this is (X'X)^-1\n",
    "                  np.dot(np.transpose(x_mat), y)) #this is X'y\n",
    "\n",
    "#note that X is (N+1)x2. Thus, X'X is a 2x2 matrix. Also, X' is 2x(N+1), while y is (N+1)x1, resulting in a 2x1 matrix\n",
    "#using the funcion np.shape(), we see that this is a (2,) vector. When the element after comma is ommited, is 1 by default\n",
    "print(beta_mat)\n",
    "\n",
    "#check if with print(y.shape), which we now is a column vector of N+1 lines"
   ]
  },
  {
   "cell_type": "markdown",
   "id": "2a5db1de",
   "metadata": {},
   "source": [
    "Now, we will use built-in functions of python to do the same job"
   ]
  },
  {
   "cell_type": "code",
   "execution_count": 26,
   "id": "45fbadde",
   "metadata": {},
   "outputs": [
    {
     "name": "stdout",
     "output_type": "stream",
     "text": [
      "[0.83853621 0.5099222 ]\n"
     ]
    }
   ],
   "source": [
    "import statsmodels.api as sm\n",
    "#\n",
    "x_mat = sm.add_constant(x)  # Add a constant column - not optional!\n",
    "lm_model = sm.OLS(y, x_mat) # Creates the OLS regression object\n",
    "lm_fit = lm_model.fit()     # Estimate the parameters\n",
    "print(lm_fit.params)        # Extract the parameter estimates"
   ]
  },
  {
   "cell_type": "markdown",
   "id": "c26eed1e",
   "metadata": {},
   "source": [
    "# Relationship between estimates, residuals, fitted and actual values"
   ]
  },
  {
   "cell_type": "markdown",
   "id": "5a71305a",
   "metadata": {},
   "source": [
    "The fitted values $\\hat{\\mathbf{y}}_{i}$ of the real $\\mathbf{y}$ are defined by the OLS (or estimated) regression line as follows:\n",
    "\n",
    "$$\n",
    "\\large{\n",
    "\\hat{\\mathbf{y}}_{i} = \\hat{\\beta}_{0} + \\hat{\\beta}_{1}\\hat{\\mathbf{X}}_{i}\n",
    "}\n",
    "$$\n",
    "\n",
    "where $\\hat{\\beta}_{0}$ and $\\hat{\\beta}_{1}$ are estimated via OLS. By definition, each fitted value of $\\hat{\\mathbf{y}}_{i}$ is on the estimated OLS regression line."
   ]
  },
  {
   "cell_type": "markdown",
   "id": "f8df4937",
   "metadata": {},
   "source": [
    "The residuals $\\mathbf{e}_{i}$ are defined as the difference between the actual and the fitted values of $\\mathbf{y}$ as follows:\n",
    "\n",
    "$$\n",
    "\\large{\n",
    "\\mathbf{e}_{i} = \\mathbf{y}_{i} - \\hat{\\mathbf{y}}_{i} = \\mathbf{y}_{i} - \\hat{\\beta}_{0} - \\hat{\\beta}_{1}\\hat{\\mathbf{X}}_{i}\n",
    "}\n",
    "$$\n",
    "\n",
    "which are hopefully close to the error terms $\\varepsilon_{i}$ of the real model."
   ]
  },
  {
   "cell_type": "code",
   "execution_count": 114,
   "id": "d8dae9cb",
   "metadata": {},
   "outputs": [
    {
     "data": {
      "image/png": "[encoded data removed]",
      "text/plain": [
       "<Figure size 720x576 with 1 Axes>"
      ]
     },
     "metadata": {
      "needs_background": "light"
     },
     "output_type": "display_data"
    }
   ],
   "source": [
    "# The unknown model, which we do observe y:\n",
    "y_obs = beta_0 + beta_1 * x\n",
    "# The fitted values:\n",
    "y_fit = beta_mat[0] + beta_mat[1] * x\n",
    "# Plot the sample data\n",
    "_ = plt.figure(num = 0, figsize = (10, 8))\n",
    "_ = plt.plot(x, y, linestyle = \"None\", marker = \"o\", markerfacecolor = '#06d775')\n",
    "_ = plt.title(\"Scatter diagram of (X,Y) sample data and the regression line\")\n",
    "# Plot the Unknown Population regression:\n",
    "_ = plt.plot(x, y_obs, linestyle = \"--\", color = \"#F78C00\", \n",
    "              label='$\\mathbb{E}(y|X) = \\\\beta_0 + \\\\beta_1 X$')\n",
    "# Plot the fitted regression line:\n",
    "_ = plt.plot(x, y_fit, linestyle = \"-\", color = \"blue\",\n",
    "              label='$\\widehat{y} = \\widehat{\\\\beta}_0 + \\widehat{\\\\beta}_1 X$')\n",
    "_ = plt.legend()\n",
    "plt.show()"
   ]
  },
  {
   "cell_type": "markdown",
   "id": "db4bcaaf",
   "metadata": {},
   "source": [
    "Taking a closer look to our regression model, we have the following result."
   ]
  },
  {
   "cell_type": "code",
   "execution_count": 127,
   "id": "25af697e",
   "metadata": {},
   "outputs": [
    {
     "data": {
      "image/png": "[encoded data removed]",
      "text/plain": [
       "<Figure size 720x576 with 1 Axes>"
      ]
     },
     "metadata": {
      "needs_background": "light"
     },
     "output_type": "display_data"
    }
   ],
   "source": [
    "_ = plt.figure(num = 1, figsize=(10, 8)) #image size\n",
    "_ = plt.plot(x, y, linestyle = \"None\", marker = \"o\", markerfacecolor = '#06d775') #sample data dots in black\n",
    "\n",
    "#Limiting the range of shown data\n",
    "_ = plt.ylim(ymin = 0, ymax = 12)\n",
    "_ = plt.xlim(xmin = 10, xmax = 20)\n",
    "\n",
    "_ = plt.title(\"Scatter diagram of (X,Y) sample data and the regression line\")\n",
    "_ = plt.plot(x, y_fit, linestyle = \"--\", color = \"blue\")\n",
    "# Add Axis labels and ticks at specific positions:\n",
    "_ = plt.xticks([x[12], x[16]], [\"$X_{13}$\", \"$X_{17}$\"])\n",
    "# Add vertical lines:\n",
    "_ = plt.plot([x[12], x[12]], [0, y_obs[12]], '--', color = \"black\")\n",
    "_ = plt.plot([x[12], x[12]], [0, y[12]], '-', color = \"black\")\n",
    "_ = plt.plot([x[16], x[16]], [0, y[16]], '-', color = \"black\")\n",
    "# Add some brackets:\n",
    "_ = plt.annotate(\"\", xy = (x[12]*0.955, y[12] / 2), \n",
    "             xytext = (x[12]*0.975, y[12] / 2),\n",
    "             arrowprops = dict(arrowstyle = \"]-, widthA=10.3,lengthA=1\",\n",
    "                               connectionstyle = \"arc\", color='red'))\n",
    "_ = plt.annotate(\"\", xy = (x[12]*1.015, y_fit[12] / 2),\n",
    "             xytext = (x[12]*1.035, y_fit[12] / 2),\n",
    "             arrowprops = dict(arrowstyle = \"-[, widthB=12.5,lengthB=1\",\n",
    "                               connectionstyle = \"arc\", color='red'))\n",
    "_ = plt.annotate(\"\", xy = (x[16]*1.015, y_fit[16] / 2), \n",
    "             xytext = (x[16]*1.035, y_fit[16] / 2),\n",
    "             arrowprops = dict(arrowstyle = \"-[, widthB=16.2,lengthB=1.2\",\n",
    "                               connectionstyle = \"arc\", color='red'))\n",
    "_ = plt.annotate(\"\", xy = (x[16]*1.015, (y[16] + y_fit[16]) / 2),\n",
    "             xytext = (x[16]*1.035, (y[16] + y_fit[16]) / 2),\n",
    "             arrowprops = dict(arrowstyle = \"-[, widthB=2.5,lengthB=1.2\",\n",
    "                               connectionstyle = \"arc\", color='red'))\n",
    "# Add Actual, Fitted and Residual indicator text:\n",
    "_ = plt.text(x[12]*0.92, y[12] / 2.1, r'$y_{13}$', fontsize = 12)\n",
    "_ = plt.text(x[12]*1.04, y_fit[12] / 2.1, r'$\\widehat{y}_{13}$', fontsize = 12)\n",
    "_ = plt.text(x[16]*1.04, y_fit[16] / 2.1, \n",
    "  r'$\\widehat{y}_{16}$ = fitted value', fontsize = 12)\n",
    "_ = plt.text(x[16]*1.04, (y[16] + y_fit[16]) / 2.02, \n",
    "  r'$\\widehat{\\epsilon}_{16}$ = residual', fontsize = 12)\n",
    "# Add Regression line\n",
    "_ = plt.text(x[17] - 0.45, y[20], \n",
    "  r'$\\widehat{y} = \\widehat{\\beta}_0 + \\widehat{\\beta}_1 X$', fontsize = 12)\n",
    "_ = plt.annotate(\"\", xy = (x[19], y_fit[19]), xytext = (x[18]*0.99, y[20]),\n",
    "            arrowprops = dict(arrowstyle = \"->\", \n",
    "                              connectionstyle = \"arc\", color='red'))\n",
    "\n",
    "plt.show()"
   ]
  },
  {
   "cell_type": "markdown",
   "id": "676e9485",
   "metadata": {},
   "source": [
    "# Properties of the OLS estimator"
   ]
  },
  {
   "cell_type": "markdown",
   "id": "e4b12b1e",
   "metadata": {},
   "source": [
    "1. The sum (and the sample average) of the OLS residuals is zero:\n",
    "$$\n",
    "\\large{\n",
    "\\sum \\limits _{i=1} ^{N} \\mathbf{e}_{i} = \\sum \\limits _{i=1} ^{N} \\hat{\\varepsilon}_{i} = 0\n",
    "}\n",
    "$$\n",
    "where we use $\\mathbf{e}_{i}$ more often to reference the OLS(estimation) residual. This follows from assumption 2 (strict exogeneity).\n",
    "<br>\n",
    "Of course, it's not actually zero, but is close enough (as close as we want/need to) to zero."
   ]
  },
  {
   "cell_type": "code",
   "execution_count": 128,
   "id": "e6015430",
   "metadata": {},
   "outputs": [
    {
     "name": "stdout",
     "output_type": "stream",
     "text": [
      "Sum of the residuals: 2.2160051571518125e-13\n"
     ]
    }
   ],
   "source": [
    "resid = y - y_fit\n",
    "print(\"Sum of the residuals: \" + str(sum(resid)))\n",
    "#recall: 2.2160051571518125e-13 = 2.2160051571518125 * 10^-13 = 0.00000000000022160051571518125 (thirteen zeros)"
   ]
  },
  {
   "cell_type": "markdown",
   "id": "111eb336",
   "metadata": {},
   "source": [
    "2. The sample covariance between the regressors and the OLS residuals is zero:\n",
    "$$\n",
    "\\large{\n",
    "    \\sum \\limits _{i=1} ^{N} \\mathbf{X}_{i}\\mathbf{e}_{i} = 0\n",
    "}\n",
    "$$\n",
    "which follows from the normal equations.\n",
    "<br><br>\n",
    "$\\textit{Proof}$.\\\n",
    "By the normal equations, we have that $\\mathbf{X'Xb = X'y}$. Defining $\\mathbf{e = y - Xb}$, we have that\\\n",
    "$\\mathbf{X'Xb = X'y <=> 0 = X'y - X'Xb <=> 0 = X'(y-Xb) <=> 0 = X'e}$. Rewriting this equation yields in\n",
    "<br><br>\n",
    "$$\n",
    "\\large{\n",
    "    \\mathbf{0 = \n",
    "        \\begin{bmatrix}\n",
    "            x_{1} & x_{2} & \\dots & x_{n}\n",
    "        \\end{bmatrix}\n",
    "        \\times\n",
    "        \\begin{bmatrix}\n",
    "            e_{1}\\\\\n",
    "            e_{2}\\\\\n",
    "            \\vdots\\\\\n",
    "            e_{n}\n",
    "        \\end{bmatrix}\n",
    "        = x_{1}e_{1} + x_{2}e_{2} + \\dots + x_{n}e_{n} = \\sum \\limits _{i=1} ^{N} \\mathbf{X}_{i}\\mathbf{e}_{i}\n",
    "    }\n",
    "}\n",
    ".\n",
    "$$\n"
   ]
  },
  {
   "cell_type": "code",
   "execution_count": 131,
   "id": "34b5a7b9",
   "metadata": {},
   "outputs": [
    {
     "name": "stdout",
     "output_type": "stream",
     "text": [
      "Sum of X*resid: 9.563905223330949e-12\n"
     ]
    }
   ],
   "source": [
    "print(\"Sum of X*resid: \" + str(sum(np.array(resid) * np.array(x))))"
   ]
  },
  {
   "cell_type": "code",
   "execution_count": 132,
   "id": "69755e93",
   "metadata": {},
   "outputs": [
    {
     "name": "stdout",
     "output_type": "stream",
     "text": [
      "Sample covariance of X and residuals: 8.054223954445661e-14\n"
     ]
    }
   ],
   "source": [
    "print(\"Sample covariance of X and residuals: \" + str(np.cov(resid, x)[0][1]))"
   ]
  },
  {
   "cell_type": "markdown",
   "id": "e36e5daa",
   "metadata": {},
   "source": [
    "3. The point $(\\mathbf{\\overline{X},\\overline{y}})$ is always on the regression line. This means that, on average, the model is always right, i.e., the following equation always holds:\n",
    "<br><br>\n",
    "$$\n",
    "\\large{\n",
    "    \\widehat{\\beta}_{0} + \\widehat{\\beta}_{1}\\overline{\\mathbf{X}} = \\mathbf{\\overline{y}}.\n",
    "}\n",
    "$$"
   ]
  },
  {
   "cell_type": "code",
   "execution_count": 133,
   "id": "0cab78d7",
   "metadata": {},
   "outputs": [
    {
     "name": "stdout",
     "output_type": "stream",
     "text": [
      "Predicted value with mean(X): 13.586591096573896\n"
     ]
    }
   ],
   "source": [
    "print(\"Predicted value with mean(X): \" + str(beta_mat[0] + beta_mat[1] * np.mean(x)))"
   ]
  },
  {
   "cell_type": "code",
   "execution_count": 134,
   "id": "e5e131cd",
   "metadata": {},
   "outputs": [
    {
     "name": "stdout",
     "output_type": "stream",
     "text": [
      "Sample mean of Y: 13.5865910965739\n"
     ]
    }
   ],
   "source": [
    "print(\"Sample mean of Y: \" + str(np.mean(y)))"
   ]
  },
  {
   "cell_type": "code",
   "execution_count": null,
   "id": "c5007569",
   "metadata": {},
   "outputs": [],
   "source": []
  }
 ],
 "metadata": {
  "kernelspec": {
   "display_name": "Python 3 (ipykernel)",
   "language": "python",
   "name": "python3"
  },
  "language_info": {
   "codemirror_mode": {
    "name": "ipython",
    "version": 3
   },
   "file_extension": ".py",
   "mimetype": "text/x-python",
   "name": "python",
   "nbconvert_exporter": "python",
   "pygments_lexer": "ipython3",
   "version": "3.9.7"
  }
 },
 "nbformat": 4,
 "nbformat_minor": 5
}
