{
 "cells": [
  {
   "cell_type": "markdown",
   "id": "b85d15c5",
   "metadata": {},
   "source": [
    "# Linear Regression Concepts - Expected Value\n",
    "\n",
    "The idea here is to have a graphical visualization of the difference between observed data ($y$) and its expected value ($\\mathbb{E}[y]$). The thing is that $\\mathbb{E}[y]$ doesn't contain the error terms $\\varepsilon$. Thus, given the real parameters ($\\beta_0, \\dots, \\beta_j$), if not by the error terms, all data would be on a straight line, perfectly predictable by the $\\mathbb{E}[y]$."
   ]
  },
  {
   "cell_type": "code",
   "execution_count": 1,
   "id": "ddef9b2b",
   "metadata": {},
   "outputs": [],
   "source": [
    "import numpy as np\n",
    "import pandas as pd\n",
    "#\n",
    "np.random.seed(1) #python will create a set of random numbers based in 1 (not so shure about the meaning of 1)\n",
    "#\n",
    "beta_0 = 1\n",
    "beta_1 = 2\n",
    "N = 50\n",
    "#\n",
    "x = np.random.normal(loc = 0, scale = 5, size = N) #x is a list with 50 random values, normally distributed around 0 (media zero), and with std = 5\n",
    "eps = np.random.normal(loc = 0, scale = 1, size = len(x)) #eps is a list of 50 random erros, normally distributed around zero, std = 1\n",
    "y = beta_0 + beta_1 * x + eps #defining y as in a simple regression\n",
    "\n",
    "#Conditional expectation of Y: it doesn't have eps\n",
    "y_ce = beta_0 + beta_1 * x "
   ]
  },
  {
   "cell_type": "code",
   "execution_count": 2,
   "id": "a2bf4bc6",
   "metadata": {},
   "outputs": [
    {
     "name": "stdout",
     "output_type": "stream",
     "text": [
      "        y_ce          y          x\n",
      "0  17.243454  17.543624   8.121727\n",
      "1  -5.117564  -5.469814  -3.058782\n",
      "2  -4.281718  -5.424236  -2.640859\n",
      "3  -9.729686 -10.079029  -5.364843\n",
      "4   9.654076   9.445182   4.327038\n",
      "5 -22.015387 -21.428764 -11.507693\n"
     ]
    }
   ],
   "source": [
    "print(pd.DataFrame({'y_ce':y_ce, 'y':y, 'x':x}).head(6))"
   ]
  },
  {
   "cell_type": "code",
   "execution_count": 4,
   "id": "b674153e",
   "metadata": {},
   "outputs": [
    {
     "data": {
      "image/png": "[encoded data removed]",
      "text/plain": [
       "<Figure size 864x432 with 1 Axes>"
      ]
     },
     "metadata": {
      "needs_background": "light"
     },
     "output_type": "display_data"
    }
   ],
   "source": [
    "import matplotlib.pyplot as plt \n",
    "from matplotlib.lines import Line2D\n",
    "\n",
    "plt.figure(figsize=(12,6))\n",
    "plt.plot(x, y, linestyle = \"None\", marker = \"o\", markerfacecolor='none');\n",
    "plt.plot(x, y_ce, linestyle = \"-\", color = \"red\");\n",
    "legend_lines = [Line2D([0], [0], color = \"red\", \n",
    "                        label='$E(Y|X) = \\\\beta_0 + \\\\beta_1 X$'),\n",
    "                Line2D([0], [0], linestyle = \"None\", markerfacecolor = \"None\",\n",
    "                      marker = \"o\", label='sample data')]\n",
    "plt.legend(handles = legend_lines, loc = 'upper left')\n",
    "plt.show()"
   ]
  }
 ],
 "metadata": {
  "kernelspec": {
   "display_name": "Python 3 (ipykernel)",
   "language": "python",
   "name": "python3"
  },
  "language_info": {
   "codemirror_mode": {
    "name": "ipython",
    "version": 3
   },
   "file_extension": ".py",
   "mimetype": "text/x-python",
   "name": "python",
   "nbconvert_exporter": "python",
   "pygments_lexer": "ipython3",
   "version": "3.9.7"
  }
 },
 "nbformat": 4,
 "nbformat_minor": 5
}
